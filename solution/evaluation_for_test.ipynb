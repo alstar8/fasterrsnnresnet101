{
 "cells": [
  {
   "cell_type": "code",
   "execution_count": 9,
   "metadata": {},
   "outputs": [
    {
     "name": "stdout",
     "output_type": "stream",
     "text": [
      "[1 : 3] /data/team01/solution/saved/Tory-Road-0-00-21-039.jpg\n",
      "[2 : 3] /data/team01/solution/saved/Tory-Road-0-00-20-670.jpg\n",
      "[3 : 3] /data/team01/solution/saved/Tory-Road-0-00-20-858.jpg\n"
     ]
    }
   ],
   "source": [
    "import requests\n",
    "import os\n",
    "count = 0\n",
    "direct = \"/data/team01/solution/saved\"\n",
    "for root, dirs, files in os.walk(direct):\n",
    "    for file in files:\n",
    "        if file.endswith(\".jpg\"):\n",
    "            count += 1\n",
    "rescount = 1\n",
    "for root, dirs, files in os.walk(direct):\n",
    "    for file in files:\n",
    "        if file.endswith(\".jpg\"):\n",
    "            files = {\n",
    "               'file': open(os.path.join(root, file), 'rb'),\n",
    "               'Content-Type': 'image/jpeg',\n",
    "            }\n",
    "            url = 'http://yaprofi.atp-fivt.org:1999/image'\n",
    "            response = requests.post(url, files=files)\n",
    "            f = open('/data/team01/solution/results/' + response.headers['fileName'], 'w')\n",
    "            f.write(response.text)\n",
    "            f.close()\n",
    "            print(\"[\" + str(rescount) + \" : \" + str(count) + \"]\", os.path.join(root, file))\n",
    "            rescount += 1"
   ]
  }
 ],
 "metadata": {
  "kernelspec": {
   "display_name": "Python 3",
   "language": "python",
   "name": "python3"
  },
  "language_info": {
   "codemirror_mode": {
    "name": "ipython",
    "version": 3
   },
   "file_extension": ".py",
   "mimetype": "text/x-python",
   "name": "python",
   "nbconvert_exporter": "python",
   "pygments_lexer": "ipython3",
   "version": "3.5.2"
  }
 },
 "nbformat": 4,
 "nbformat_minor": 2
}
